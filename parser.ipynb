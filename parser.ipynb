{
 "cells": [
  {
   "cell_type": "code",
   "execution_count": 1,
   "metadata": {},
   "outputs": [],
   "source": [
    "import os\n",
    "import xml.etree.ElementTree as ET\n",
    "import numpy as np\n",
    "import pandas as pd\n",
    "import cv2\n",
    "import csv"
   ]
  },
  {
   "cell_type": "code",
   "execution_count": 2,
   "metadata": {},
   "outputs": [],
   "source": [
    "#import d6tstack"
   ]
  },
  {
   "cell_type": "code",
   "execution_count": 3,
   "metadata": {},
   "outputs": [],
   "source": [
    "vgg_labels_path =r\"C:\\Users\\Yasmine\\Desktop\\Env\\envs\\keras-frcnn-master\\Projet\\frcnn\\Fichier_csv_Total.csv\""
   ]
  },
  {
   "cell_type": "code",
   "execution_count": 4,
   "metadata": {},
   "outputs": [
    {
     "name": "stdout",
     "output_type": "stream",
     "text": [
      "                       Source.Name              filename  file_size  \\\n",
      "0               AchrafLabelcsv.csv     7_clip_frame0.jpg   682315.0   \n",
      "1               AchrafLabelcsv.csv     7_clip_frame0.jpg   682315.0   \n",
      "2               AchrafLabelcsv.csv     7_clip_frame5.jpg   683419.0   \n",
      "3               AchrafLabelcsv.csv     7_clip_frame5.jpg   683419.0   \n",
      "4               AchrafLabelcsv.csv    7_clip_frame10.jpg   695724.0   \n",
      "...                            ...                   ...        ...   \n",
      "107658  via_project_Student_44.csv  7_clip_frame5445.jpg   665509.0   \n",
      "107659  via_project_Student_44.csv  7_clip_frame5445.jpg   665509.0   \n",
      "107660  via_project_Student_44.csv  7_clip_frame5445.jpg   665509.0   \n",
      "107661  via_project_Student_44.csv  7_clip_frame5445.jpg   665509.0   \n",
      "107662  via_project_Student_44.csv  7_clip_frame5445.jpg   665509.0   \n",
      "\n",
      "       file_attributes  region_count  region_id  \\\n",
      "0                   {}           2.0        0.0   \n",
      "1                   {}           2.0        1.0   \n",
      "2                   {}           2.0        0.0   \n",
      "3                   {}           2.0        1.0   \n",
      "4                   {}           2.0        0.0   \n",
      "...                ...           ...        ...   \n",
      "107658              {}           9.0        4.0   \n",
      "107659              {}           9.0        5.0   \n",
      "107660              {}           9.0        6.0   \n",
      "107661              {}           9.0        7.0   \n",
      "107662              {}           9.0        8.0   \n",
      "\n",
      "                                  region_shape_attributes   region_attributes  \n",
      "0       {\"name\":\"rect\",\"x\":379,\"y\":485,\"width\":294,\"he...    {\"class\":\"velo\"}  \n",
      "1       {\"name\":\"rect\",\"x\":974,\"y\":455,\"width\":202,\"he...    {\"class\":\"velo\"}  \n",
      "2       {\"name\":\"rect\",\"x\":494,\"y\":472,\"width\":259,\"he...    {\"class\":\"velo\"}  \n",
      "3       {\"name\":\"rect\",\"x\":1035,\"y\":445,\"width\":193,\"h...    {\"class\":\"velo\"}  \n",
      "4       {\"name\":\"rect\",\"x\":584,\"y\":461,\"width\":246,\"he...    {\"class\":\"velo\"}  \n",
      "...                                                   ...                 ...  \n",
      "107658  {\"name\":\"rect\",\"x\":1290,\"y\":336,\"width\":49,\"he...  {\"class\":\"masque\"}  \n",
      "107659  {\"name\":\"rect\",\"x\":1017,\"y\":441,\"width\":236,\"h...    {\"class\":\"velo\"}  \n",
      "107660  {\"name\":\"rect\",\"x\":632,\"y\":532,\"width\":299,\"he...    {\"class\":\"velo\"}  \n",
      "107661  {\"name\":\"rect\",\"x\":730,\"y\":411,\"width\":70,\"hei...  {\"class\":\"masque\"}  \n",
      "107662  {\"name\":\"rect\",\"x\":581,\"y\":357,\"width\":322,\"he...    {\"class\":\"velo\"}  \n",
      "\n",
      "[107663 rows x 8 columns]\n"
     ]
    }
   ],
   "source": [
    "df_labels = pd.read_csv(vgg_labels_path, sep=\";\")\n",
    "print(df_labels)"
   ]
  },
  {
   "cell_type": "code",
   "execution_count": 5,
   "metadata": {},
   "outputs": [
    {
     "name": "stdout",
     "output_type": "stream",
     "text": [
      "          Source.Name           filename  file_size file_attributes  \\\n",
      "0  AchrafLabelcsv.csv  7_clip_frame0.jpg   682315.0              {}   \n",
      "1  AchrafLabelcsv.csv  7_clip_frame0.jpg   682315.0              {}   \n",
      "2  AchrafLabelcsv.csv  7_clip_frame5.jpg   683419.0              {}   \n",
      "\n",
      "   region_count  region_id                            region_shape_attributes  \\\n",
      "0           2.0        0.0  {\"name\":\"rect\",\"x\":379,\"y\":485,\"width\":294,\"he...   \n",
      "1           2.0        1.0  {\"name\":\"rect\",\"x\":974,\"y\":455,\"width\":202,\"he...   \n",
      "2           2.0        0.0  {\"name\":\"rect\",\"x\":494,\"y\":472,\"width\":259,\"he...   \n",
      "\n",
      "  region_attributes  \n",
      "0  {\"class\":\"velo\"}  \n",
      "1  {\"class\":\"velo\"}  \n",
      "2  {\"class\":\"velo\"}  \n"
     ]
    }
   ],
   "source": [
    "print(df_labels[0:3])\n"
   ]
  },
  {
   "cell_type": "code",
   "execution_count": 6,
   "metadata": {},
   "outputs": [
    {
     "data": {
      "text/html": [
       "<div>\n",
       "<style scoped>\n",
       "    .dataframe tbody tr th:only-of-type {\n",
       "        vertical-align: middle;\n",
       "    }\n",
       "\n",
       "    .dataframe tbody tr th {\n",
       "        vertical-align: top;\n",
       "    }\n",
       "\n",
       "    .dataframe thead th {\n",
       "        text-align: right;\n",
       "    }\n",
       "</style>\n",
       "<table border=\"1\" class=\"dataframe\">\n",
       "  <thead>\n",
       "    <tr style=\"text-align: right;\">\n",
       "      <th></th>\n",
       "      <th>Source.Name</th>\n",
       "      <th>filename</th>\n",
       "      <th>file_size</th>\n",
       "      <th>file_attributes</th>\n",
       "      <th>region_count</th>\n",
       "      <th>region_id</th>\n",
       "      <th>region_shape_attributes</th>\n",
       "      <th>region_attributes</th>\n",
       "    </tr>\n",
       "  </thead>\n",
       "  <tbody>\n",
       "    <tr>\n",
       "      <th>0</th>\n",
       "      <td>AchrafLabelcsv.csv</td>\n",
       "      <td>7_clip_frame0.jpg</td>\n",
       "      <td>682315.0</td>\n",
       "      <td>{}</td>\n",
       "      <td>2.0</td>\n",
       "      <td>0.0</td>\n",
       "      <td>{\"name\":\"rect\",\"x\":379,\"y\":485,\"width\":294,\"he...</td>\n",
       "      <td>{\"class\":\"velo\"}</td>\n",
       "    </tr>\n",
       "    <tr>\n",
       "      <th>1</th>\n",
       "      <td>AchrafLabelcsv.csv</td>\n",
       "      <td>7_clip_frame0.jpg</td>\n",
       "      <td>682315.0</td>\n",
       "      <td>{}</td>\n",
       "      <td>2.0</td>\n",
       "      <td>1.0</td>\n",
       "      <td>{\"name\":\"rect\",\"x\":974,\"y\":455,\"width\":202,\"he...</td>\n",
       "      <td>{\"class\":\"velo\"}</td>\n",
       "    </tr>\n",
       "    <tr>\n",
       "      <th>2</th>\n",
       "      <td>AchrafLabelcsv.csv</td>\n",
       "      <td>7_clip_frame5.jpg</td>\n",
       "      <td>683419.0</td>\n",
       "      <td>{}</td>\n",
       "      <td>2.0</td>\n",
       "      <td>0.0</td>\n",
       "      <td>{\"name\":\"rect\",\"x\":494,\"y\":472,\"width\":259,\"he...</td>\n",
       "      <td>{\"class\":\"velo\"}</td>\n",
       "    </tr>\n",
       "    <tr>\n",
       "      <th>3</th>\n",
       "      <td>AchrafLabelcsv.csv</td>\n",
       "      <td>7_clip_frame5.jpg</td>\n",
       "      <td>683419.0</td>\n",
       "      <td>{}</td>\n",
       "      <td>2.0</td>\n",
       "      <td>1.0</td>\n",
       "      <td>{\"name\":\"rect\",\"x\":1035,\"y\":445,\"width\":193,\"h...</td>\n",
       "      <td>{\"class\":\"velo\"}</td>\n",
       "    </tr>\n",
       "    <tr>\n",
       "      <th>4</th>\n",
       "      <td>AchrafLabelcsv.csv</td>\n",
       "      <td>7_clip_frame10.jpg</td>\n",
       "      <td>695724.0</td>\n",
       "      <td>{}</td>\n",
       "      <td>2.0</td>\n",
       "      <td>0.0</td>\n",
       "      <td>{\"name\":\"rect\",\"x\":584,\"y\":461,\"width\":246,\"he...</td>\n",
       "      <td>{\"class\":\"velo\"}</td>\n",
       "    </tr>\n",
       "  </tbody>\n",
       "</table>\n",
       "</div>"
      ],
      "text/plain": [
       "          Source.Name            filename  file_size file_attributes  \\\n",
       "0  AchrafLabelcsv.csv   7_clip_frame0.jpg   682315.0              {}   \n",
       "1  AchrafLabelcsv.csv   7_clip_frame0.jpg   682315.0              {}   \n",
       "2  AchrafLabelcsv.csv   7_clip_frame5.jpg   683419.0              {}   \n",
       "3  AchrafLabelcsv.csv   7_clip_frame5.jpg   683419.0              {}   \n",
       "4  AchrafLabelcsv.csv  7_clip_frame10.jpg   695724.0              {}   \n",
       "\n",
       "   region_count  region_id                            region_shape_attributes  \\\n",
       "0           2.0        0.0  {\"name\":\"rect\",\"x\":379,\"y\":485,\"width\":294,\"he...   \n",
       "1           2.0        1.0  {\"name\":\"rect\",\"x\":974,\"y\":455,\"width\":202,\"he...   \n",
       "2           2.0        0.0  {\"name\":\"rect\",\"x\":494,\"y\":472,\"width\":259,\"he...   \n",
       "3           2.0        1.0  {\"name\":\"rect\",\"x\":1035,\"y\":445,\"width\":193,\"h...   \n",
       "4           2.0        0.0  {\"name\":\"rect\",\"x\":584,\"y\":461,\"width\":246,\"he...   \n",
       "\n",
       "  region_attributes  \n",
       "0  {\"class\":\"velo\"}  \n",
       "1  {\"class\":\"velo\"}  \n",
       "2  {\"class\":\"velo\"}  \n",
       "3  {\"class\":\"velo\"}  \n",
       "4  {\"class\":\"velo\"}  "
      ]
     },
     "execution_count": 6,
     "metadata": {},
     "output_type": "execute_result"
    }
   ],
   "source": [
    "df_labels.head(5)"
   ]
  },
  {
   "cell_type": "code",
   "execution_count": 7,
   "metadata": {},
   "outputs": [],
   "source": [
    "# to concatenate the labels from diffrent \n",
    "#pd.concat([df_labels[0:3],df_labels[3:4]])"
   ]
  },
  {
   "cell_type": "code",
   "execution_count": 8,
   "metadata": {},
   "outputs": [
    {
     "name": "stdout",
     "output_type": "stream",
     "text": [
      "7_clip_frame0.jpg\n",
      "7_clip_frame5.jpg\n",
      "7_clip_frame10.jpg\n",
      "7_clip_frame15.jpg\n",
      "7_clip_frame20.jpg\n"
     ]
    }
   ],
   "source": [
    "tab=[]\n",
    "unique_filenames = df_labels.filename.unique()\n",
    "for i in range(5):\n",
    "    print(unique_filenames[i])\n",
    "    tab.append(unique_filenames[i])\n"
   ]
  },
  {
   "cell_type": "code",
   "execution_count": 9,
   "metadata": {},
   "outputs": [
    {
     "name": "stdout",
     "output_type": "stream",
     "text": [
      "['7_clip_frame0.jpg', '7_clip_frame5.jpg']\n"
     ]
    }
   ],
   "source": [
    "print(tab[0:2])"
   ]
  },
  {
   "cell_type": "code",
   "execution_count": 10,
   "metadata": {},
   "outputs": [
    {
     "data": {
      "text/plain": [
       "6630"
      ]
     },
     "execution_count": 10,
     "metadata": {},
     "output_type": "execute_result"
    }
   ],
   "source": [
    "len(unique_filenames)"
   ]
  },
  {
   "cell_type": "code",
   "execution_count": 11,
   "metadata": {},
   "outputs": [],
   "source": [
    "def read_region_shape_attributes(attributes):\n",
    "    if isinstance(attributes, str):\n",
    "        attributes = eval(attributes)\n",
    "    \n",
    "    xmin = attributes[\"x\"]\n",
    "    ymin = attributes[\"y\"]\n",
    "    \n",
    "    width = attributes[\"width\"]\n",
    "    height = attributes[\"height\"]\n",
    "    \n",
    "    xcenter = xmin + width/2\n",
    "    ycenter = ymin + height/2\n",
    "    \n",
    "    return xcenter, ycenter, width, height"
   ]
  },
  {
   "cell_type": "code",
   "execution_count": 12,
   "metadata": {},
   "outputs": [],
   "source": [
    "def get_image_width_height(image_path):\n",
    "    image = cv2.imread(image_path)\n",
    "    image_shape = image.shape\n",
    "    image_height, image_width = image_shape[0], image_shape[1]\n",
    "    \n",
    "    return image_width, image_height"
   ]
  },
  {
   "cell_type": "code",
   "execution_count": 13,
   "metadata": {},
   "outputs": [],
   "source": [
    "def read_region_attributes(attributes):\n",
    "    try:\n",
    "        if isinstance(attributes, str):\n",
    "            attributes = eval(attributes)\n",
    "\n",
    "        class_name = attributes[\"class\"]\n",
    "    except:\n",
    "        class_name = -1\n",
    "    \n",
    "    return class_name"
   ]
  },
  {
   "cell_type": "code",
   "execution_count": 14,
   "metadata": {},
   "outputs": [],
   "source": [
    "df_labels[\"class_name\"] = df_labels.region_attributes.apply(read_region_attributes)[5:100]"
   ]
  },
  {
   "cell_type": "code",
   "execution_count": null,
   "metadata": {},
   "outputs": [],
   "source": []
  },
  {
   "cell_type": "code",
   "execution_count": null,
   "metadata": {},
   "outputs": [],
   "source": [
    "df_labels[\"class_name\"] = df_labels.region_attributes.apply(read_region_attributes)"
   ]
  },
  {
   "cell_type": "code",
   "execution_count": 16,
   "metadata": {},
   "outputs": [
    {
     "data": {
      "text/plain": [
       "array([nan, 'velo'], dtype=object)"
      ]
     },
     "execution_count": 16,
     "metadata": {},
     "output_type": "execute_result"
    }
   ],
   "source": [
    "df_labels.class_name.unique()"
   ]
  },
  {
   "cell_type": "code",
   "execution_count": 17,
   "metadata": {},
   "outputs": [
    {
     "data": {
      "text/html": [
       "<div>\n",
       "<style scoped>\n",
       "    .dataframe tbody tr th:only-of-type {\n",
       "        vertical-align: middle;\n",
       "    }\n",
       "\n",
       "    .dataframe tbody tr th {\n",
       "        vertical-align: top;\n",
       "    }\n",
       "\n",
       "    .dataframe thead th {\n",
       "        text-align: right;\n",
       "    }\n",
       "</style>\n",
       "<table border=\"1\" class=\"dataframe\">\n",
       "  <thead>\n",
       "    <tr style=\"text-align: right;\">\n",
       "      <th></th>\n",
       "      <th>Source.Name</th>\n",
       "      <th>filename</th>\n",
       "      <th>file_size</th>\n",
       "      <th>file_attributes</th>\n",
       "      <th>region_count</th>\n",
       "      <th>region_id</th>\n",
       "      <th>region_shape_attributes</th>\n",
       "      <th>region_attributes</th>\n",
       "      <th>class_name</th>\n",
       "    </tr>\n",
       "  </thead>\n",
       "  <tbody>\n",
       "  </tbody>\n",
       "</table>\n",
       "</div>"
      ],
      "text/plain": [
       "Empty DataFrame\n",
       "Columns: [Source.Name, filename, file_size, file_attributes, region_count, region_id, region_shape_attributes, region_attributes, class_name]\n",
       "Index: []"
      ]
     },
     "execution_count": 17,
     "metadata": {},
     "output_type": "execute_result"
    }
   ],
   "source": [
    "df_labels[df_labels.class_name == -1]"
   ]
  },
  {
   "cell_type": "code",
   "execution_count": 18,
   "metadata": {},
   "outputs": [],
   "source": [
    "bad_filenames = df_labels[df_labels.class_name == -1].filename.unique()"
   ]
  },
  {
   "cell_type": "code",
   "execution_count": 19,
   "metadata": {},
   "outputs": [
    {
     "name": "stdout",
     "output_type": "stream",
     "text": [
      "[]\n"
     ]
    }
   ],
   "source": [
    "print(bad_filenames)"
   ]
  },
  {
   "cell_type": "code",
   "execution_count": 20,
   "metadata": {},
   "outputs": [],
   "source": [
    "df_labels_clean = df_labels[~df_labels.filename.isin(bad_filenames)]"
   ]
  },
  {
   "cell_type": "code",
   "execution_count": 21,
   "metadata": {},
   "outputs": [
    {
     "name": "stdout",
     "output_type": "stream",
     "text": [
      "                       Source.Name              filename  file_size  \\\n",
      "0               AchrafLabelcsv.csv     7_clip_frame0.jpg   682315.0   \n",
      "1               AchrafLabelcsv.csv     7_clip_frame0.jpg   682315.0   \n",
      "2               AchrafLabelcsv.csv     7_clip_frame5.jpg   683419.0   \n",
      "3               AchrafLabelcsv.csv     7_clip_frame5.jpg   683419.0   \n",
      "4               AchrafLabelcsv.csv    7_clip_frame10.jpg   695724.0   \n",
      "...                            ...                   ...        ...   \n",
      "107658  via_project_Student_44.csv  7_clip_frame5445.jpg   665509.0   \n",
      "107659  via_project_Student_44.csv  7_clip_frame5445.jpg   665509.0   \n",
      "107660  via_project_Student_44.csv  7_clip_frame5445.jpg   665509.0   \n",
      "107661  via_project_Student_44.csv  7_clip_frame5445.jpg   665509.0   \n",
      "107662  via_project_Student_44.csv  7_clip_frame5445.jpg   665509.0   \n",
      "\n",
      "       file_attributes  region_count  region_id  \\\n",
      "0                   {}           2.0        0.0   \n",
      "1                   {}           2.0        1.0   \n",
      "2                   {}           2.0        0.0   \n",
      "3                   {}           2.0        1.0   \n",
      "4                   {}           2.0        0.0   \n",
      "...                ...           ...        ...   \n",
      "107658              {}           9.0        4.0   \n",
      "107659              {}           9.0        5.0   \n",
      "107660              {}           9.0        6.0   \n",
      "107661              {}           9.0        7.0   \n",
      "107662              {}           9.0        8.0   \n",
      "\n",
      "                                  region_shape_attributes   region_attributes  \\\n",
      "0       {\"name\":\"rect\",\"x\":379,\"y\":485,\"width\":294,\"he...    {\"class\":\"velo\"}   \n",
      "1       {\"name\":\"rect\",\"x\":974,\"y\":455,\"width\":202,\"he...    {\"class\":\"velo\"}   \n",
      "2       {\"name\":\"rect\",\"x\":494,\"y\":472,\"width\":259,\"he...    {\"class\":\"velo\"}   \n",
      "3       {\"name\":\"rect\",\"x\":1035,\"y\":445,\"width\":193,\"h...    {\"class\":\"velo\"}   \n",
      "4       {\"name\":\"rect\",\"x\":584,\"y\":461,\"width\":246,\"he...    {\"class\":\"velo\"}   \n",
      "...                                                   ...                 ...   \n",
      "107658  {\"name\":\"rect\",\"x\":1290,\"y\":336,\"width\":49,\"he...  {\"class\":\"masque\"}   \n",
      "107659  {\"name\":\"rect\",\"x\":1017,\"y\":441,\"width\":236,\"h...    {\"class\":\"velo\"}   \n",
      "107660  {\"name\":\"rect\",\"x\":632,\"y\":532,\"width\":299,\"he...    {\"class\":\"velo\"}   \n",
      "107661  {\"name\":\"rect\",\"x\":730,\"y\":411,\"width\":70,\"hei...  {\"class\":\"masque\"}   \n",
      "107662  {\"name\":\"rect\",\"x\":581,\"y\":357,\"width\":322,\"he...    {\"class\":\"velo\"}   \n",
      "\n",
      "       class_name  \n",
      "0             NaN  \n",
      "1             NaN  \n",
      "2             NaN  \n",
      "3             NaN  \n",
      "4             NaN  \n",
      "...           ...  \n",
      "107658        NaN  \n",
      "107659        NaN  \n",
      "107660        NaN  \n",
      "107661        NaN  \n",
      "107662        NaN  \n",
      "\n",
      "[107663 rows x 9 columns]\n"
     ]
    }
   ],
   "source": [
    "print(df_labels_clean)"
   ]
  },
  {
   "cell_type": "code",
   "execution_count": 22,
   "metadata": {},
   "outputs": [
    {
     "data": {
      "text/plain": [
       "6630"
      ]
     },
     "execution_count": 22,
     "metadata": {},
     "output_type": "execute_result"
    }
   ],
   "source": [
    "len(df_labels_clean.filename.unique())"
   ]
  },
  {
   "cell_type": "code",
   "execution_count": 23,
   "metadata": {},
   "outputs": [],
   "source": [
    "class_mapping = {\n",
    "    \"velo\":0,\n",
    "    \"velo \":0,\n",
    "    \"vÃ©lo\":0,\n",
    "    \"vÃ©lo \":0,\n",
    "    \"piéton\":1,\n",
    "    \"piéton \":1,\n",
    "    \"piÃ©ton\":1,\n",
    "    \"piÃ©ton \":1,\n",
    "    \"pieton\":1,\n",
    "    \"pieton \":1,\n",
    "    \"trottinette\":2,\n",
    "    \"trottinette \":2, \n",
    "    \"masque\":3,\n",
    "    \"masque \":3, \n",
    "    \"mal_mis\":4,\n",
    "    \"mal_mis \":4, \n",
    "    \"pas_de_masque\":5,\n",
    "    \"pas_de_masque \":5,\n",
    "    'Piéton':1, \n",
    "    'Velo':1,\n",
    "     'Masque':1,\n",
    "   'Trottinette ':1,\n",
    "   'Pas de masque ':3\n",
    "}"
   ]
  },
  {
   "cell_type": "code",
   "execution_count": 24,
   "metadata": {},
   "outputs": [],
   "source": [
    "from shutil import copy\n",
    "import os"
   ]
  },
  {
   "cell_type": "code",
   "execution_count": 38,
   "metadata": {},
   "outputs": [
    {
     "name": "stdout",
     "output_type": "stream",
     "text": [
      "['7_clip_frame0.jpg' '7_clip_frame5.jpg' '7_clip_frame10.jpg' ...\n",
      " '7_clip_frame5435.jpg' '7_clip_frame5440.jpg' '7_clip_frame5445.jpg']\n"
     ]
    }
   ],
   "source": [
    "all_filenames = df_labels_clean.filename.unique()"
   ]
  },
  {
   "cell_type": "code",
   "execution_count": 26,
   "metadata": {},
   "outputs": [],
   "source": [
    "source_image_folder = r\"C:\\Users\\Yasmine\\Desktop\\Env\\envs\\keras-frcnn-master\\Projet\\frcnn\\JPEGImages\""
   ]
  },
  {
   "cell_type": "code",
   "execution_count": 27,
   "metadata": {},
   "outputs": [],
   "source": [
    "output_folder = r\"C:\\Users\\Yasmine\\Desktop\\Env\\envs\\keras-frcnn-master\\Projet\\frcnn\\images\""
   ]
  },
  {
   "cell_type": "code",
   "execution_count": null,
   "metadata": {
    "scrolled": true
   },
   "outputs": [],
   "source": [
    "for filename in all_filenames:\n",
    "    #print(filename)\n",
    "    try:\n",
    "        df_slice = df_labels_clean[df_labels_clean.filename == filename]\n",
    "        #print (\" coucoiu \" ,df_slice)\n",
    "        img_path = os.path.join(source_image_folder, filename)\n",
    "    \n",
    "        copy(img_path, output_folder)\n",
    "    \n",
    "        img_width, img_height = get_image_width_height(img_path)\n",
    "        print(img_width, img_height)\n",
    "    \n",
    "        label_name = '.'.join(filename.split('.')[:-1]) + \".txt\"\n",
    "        label_path = os.path.join(output_folder, label_name)\n",
    "    \n",
    "        label_str = \"\"\n",
    "        if not df_slice.iloc[0].region_count == 0:\n",
    "            try:\n",
    "                for _, row in df_slice.iterrows():\n",
    "                \n",
    "                    class_name = row[\"region_attributes\"]\n",
    "                    #print(\"je suis\", class_name)\n",
    "                    clss_name=class_name[0]\n",
    "                    class_id = class_mapping[clss_name]\n",
    "                    print(class_id)\n",
    "            \n",
    "                    xcenter, ycenter, width, height = read_region_shape_attributes(row[\"region_shape_attributes\"])\n",
    "            \n",
    "                    xcenter_norm = float(xcenter) / img_width\n",
    "                    ycenter_norm = float(ycenter) / img_height\n",
    "            \n",
    "                    width_norm = float(width) / img_width\n",
    "                    height_norm = float(height) / img_height\n",
    "            \n",
    "                    bbox_line = \"{} {:.3f} {:.3f} {:.3f} {:.3f}\".format(class_id, xcenter_norm, ycenter_norm, width_norm, height_norm)\n",
    "                    label_str += bbox_line\n",
    "                    label_str += \"\\n\"\n",
    "            except KeyError :\n",
    "                print('aye')\n",
    "                continue\n",
    "        \n",
    "        with open(label_path, \"w\") as output:\n",
    "            output.write(label_str)\n",
    "    except FileNotFoundError :\n",
    "        print('oups')\n",
    "        continue"
   ]
  },
  {
   "cell_type": "code",
   "execution_count": null,
   "metadata": {},
   "outputs": [],
   "source": [
    "for filename in all_filenames:\n",
    "    #print(filename)\n",
    "    try:\n",
    "        df_slice = df_labels_clean[df_labels_clean.filename == filename]\n",
    "        #print (\" coucoiu \" ,df_slice)\n",
    "        img_path = os.path.join(source_image_folder, filename)\n",
    "    \n",
    "        copy(img_path, output_folder)\n",
    "    \n",
    "        img_width, img_height = get_image_width_height(img_path)\n",
    "        print(img_width, img_height)\n",
    "    \n",
    "        label_name = '.'.join(filename.split('.')[:-1]) + \".txt\"\n",
    "        label_path = os.path.join(output_folder, label_name)\n",
    "    \n",
    "        label_str = \"\"\n",
    "        if not df_slice.iloc[0].region_count == 0:\n",
    "            try:\n",
    "                for _, row in df_slice.iterrows():\n",
    "                    print(row[\"class_name\"])\n",
    "                    clss_name = row[\"class_name\"]\n",
    "                    class_id = class_mapping[class_name]\n",
    "                    print(class_id)\n",
    "            \n",
    "                    xcenter, ycenter, width, height = read_region_shape_attributes(row[\"region_shape_attributes\"])\n",
    "            \n",
    "                    xcenter_norm = float(xcenter) / img_width\n",
    "                    ycenter_norm = float(ycenter) / img_height\n",
    "            \n",
    "                    width_norm = float(width) / img_width\n",
    "                    height_norm = float(height) / img_height\n",
    "            \n",
    "                    bbox_line = \"{} {:.3f} {:.3f} {:.3f} {:.3f}\".format(class_id, xcenter_norm, ycenter_norm, width_norm, height_norm)\n",
    "                    label_str += bbox_line\n",
    "                    label_str += \"\\n\"\n",
    "            except KeyError :\n",
    "                print('aye')\n",
    "                continue\n",
    "        \n",
    "        with open(label_path, \"w\") as output:\n",
    "            output.write(label_str)\n",
    "    except FileNotFoundError :\n",
    "        print('oups')\n",
    "        continue"
   ]
  },
  {
   "cell_type": "code",
   "execution_count": null,
   "metadata": {},
   "outputs": [],
   "source": [
    "dic={\"class\":\"velo\"}  \n",
    "\n",
    "print(dic[\"class\"])\n",
    "print(dic)\n"
   ]
  },
  {
   "cell_type": "code",
   "execution_count": null,
   "metadata": {},
   "outputs": [],
   "source": []
  },
  {
   "cell_type": "code",
   "execution_count": null,
   "metadata": {},
   "outputs": [],
   "source": []
  }
 ],
 "metadata": {
  "kernelspec": {
   "display_name": "Python 3",
   "language": "python",
   "name": "python3"
  },
  "language_info": {
   "codemirror_mode": {
    "name": "ipython",
    "version": 3
   },
   "file_extension": ".py",
   "mimetype": "text/x-python",
   "name": "python",
   "nbconvert_exporter": "python",
   "pygments_lexer": "ipython3",
   "version": "3.8.3"
  }
 },
 "nbformat": 4,
 "nbformat_minor": 4
}
